# import libraries:
import pandas as pd
import numpy as np

# read from wiki postal codes Canada:

link = "https://en.wikipedia.org/wiki/List_of_postal_codes_of_Canada:_M"

tables = pd.read_html(link)

df = tables[0].iloc[1:]
df.columns = ['Postal Code','Borough','Neighbourhood']
df.head()

# delete rows with not assigned neighbourhood:

df = df[df['Neighbourhood'] != 'Not assigned']
df['ni']= range(0, len(df)) # this is the line that generates the warning
df = df.set_index('ni')

# read csv file with geospatial coordinates:

df1 = pd.read_csv("Geospatial_Coordinates.csv")
df1.head()

# join my tables df and df1 to df (added coordinates to df table):

df['Latitude'] = None
df['Longitude'] = None

for i in range(0, len(df)):
    for j in range(0, len(df1)):
        if df['Postal Code'][i] == df1['Postal Code'][j]:
            df['Latitude'][i] = df1['Latitude'][j]
            df['Longitude'][i] = df1['Longitude'][j]       

# Only Toronto:
df = df[df['Borough'].isin(['Downtown Toronto','Central Toronto','West Toronto','East Toronto'])]

df['ni']= range(0, len(df)) # this is the line that generates the warning
df = df.set_index('ni')
